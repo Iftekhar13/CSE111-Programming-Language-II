{
  "nbformat": 4,
  "nbformat_minor": 0,
  "metadata": {
    "colab": {
      "name": "Assignment05_20201120_Iftekhar Al-Mahmud",
      "provenance": [],
      "collapsed_sections": []
    },
    "kernelspec": {
      "name": "python3",
      "display_name": "Python 3"
    },
    "language_info": {
      "name": "python"
    }
  },
  "cells": [
    {
      "cell_type": "code",
      "metadata": {
        "colab": {
          "base_uri": "https://localhost:8080/"
        },
        "id": "Nx6gDdPI-FXC",
        "outputId": "e03a985b-0a5a-4cba-d891-b68ffca166e4"
      },
      "source": [
        "#Assignment5\n",
        "#Task1\n",
        "class Marks():\n",
        "  def __init__(self, m):\n",
        "    self.mark = m\n",
        "  def __add__(self, n):\n",
        "    ob = Marks(self.mark + n.mark)\n",
        "    return ob\n",
        "Q1 = Marks(int(input(\"Quiz 1 (out of 10): \")))\n",
        "Q2 = Marks(int(input(\"Quiz 2 (out of 10): \")))\n",
        "Lab = Marks(int(input(\"Lab (out of 30): \")))\n",
        "Mid = Marks(int(input(\"Mid (out of 20): \")))\n",
        "Final = Marks(int(input(\"Final (out of 30): \")))\n",
        "total = Q1 + Q2 + Lab + Mid + Final\n",
        "print(\"Total marks: {}\".format(total.mark))\n",
        "  \n",
        "   \n"
      ],
      "execution_count": null,
      "outputs": [
        {
          "output_type": "stream",
          "name": "stdout",
          "text": [
            "Quiz 1 (out of 10): 10\n",
            "Quiz 2 (out of 10): 10\n",
            "Lab (out of 30): 30\n",
            "Mid (out of 20): 20\n",
            "Final (out of 30): 30\n",
            "Total marks: 100\n"
          ]
        }
      ]
    },
    {
      "cell_type": "code",
      "metadata": {
        "id": "ND-GSYdc1xHT",
        "colab": {
          "base_uri": "https://localhost:8080/"
        },
        "outputId": "c5230e22-87db-4642-ffbb-9506dde1c073"
      },
      "source": [
        "#Task2\n",
        "class Teacher():\n",
        "  def __init__(self, n, d):\n",
        "    self.__name = n\n",
        "    self.__department = d\n",
        "    self.__lst=[]\n",
        "  def addCourse(self, x):\n",
        "    self.__lst.append(x.courses)\n",
        "  def printDetail(self):\n",
        "    print('====================================')\n",
        "    print('Name:',self.__name)\n",
        "    print('Department:',self.__department)\n",
        "    print('List of courses')\n",
        "    print('====================================')\n",
        "    for y in self.__lst:\n",
        "      print(y)\n",
        "    print('====================================')\n",
        "     \n",
        "class Course():\n",
        "  def __init__(self, c):\n",
        "    self.courses = c\n",
        "\n",
        "t1 = Teacher(\"Saad Abdullah\", \"CSE\")\n",
        "t2 = Teacher(\"Mumit Khan\", \"CSE\")\n",
        "t3 = Teacher(\"Sadia Kazi\", \"CSE\")\n",
        "c1 = Course(\"CSE 110 Programming Language I\")\n",
        "c2 = Course(\"CSE 111 Programming Language-II\")\n",
        "c3 = Course(\"CSE 220 Data Structures\")\n",
        "c4 = Course(\"CSE 221 Algorithms\")\n",
        "c5 = Course(\"CCSE 230 Discrete Mathematics\")\n",
        "c6 = Course(\"CSE 310 Object Oriented Programming\")\n",
        "c7 = Course(\"CSE 320 Data Communications\")\n",
        "c8 = Course(\"CSE 340 Computer Architecture\")\n",
        "t1.addCourse(c1)\n",
        "t1.addCourse(c2)\n",
        "t2.addCourse(c3)\n",
        "t2.addCourse(c4)\n",
        "t2.addCourse(c5)\n",
        "t3.addCourse(c6)\n",
        "t3.addCourse(c7)\n",
        "t3.addCourse(c8)\n",
        "t1.printDetail()\n",
        "t2.printDetail()\n",
        "t3.printDetail() "
      ],
      "execution_count": 3,
      "outputs": [
        {
          "output_type": "stream",
          "name": "stdout",
          "text": [
            "====================================\n",
            "Name: Saad Abdullah\n",
            "Department: CSE\n",
            "List of courses\n",
            "====================================\n",
            "CSE 110 Programming Language I\n",
            "CSE 111 Programming Language-II\n",
            "====================================\n",
            "====================================\n",
            "Name: Mumit Khan\n",
            "Department: CSE\n",
            "List of courses\n",
            "====================================\n",
            "CSE 220 Data Structures\n",
            "CSE 221 Algorithms\n",
            "CCSE 230 Discrete Mathematics\n",
            "====================================\n",
            "====================================\n",
            "Name: Sadia Kazi\n",
            "Department: CSE\n",
            "List of courses\n",
            "====================================\n",
            "CSE 310 Object Oriented Programming\n",
            "CSE 320 Data Communications\n",
            "CSE 340 Computer Architecture\n",
            "====================================\n"
          ]
        }
      ]
    },
    {
      "cell_type": "code",
      "metadata": {
        "id": "_S87Q42S2UZO",
        "colab": {
          "base_uri": "https://localhost:8080/"
        },
        "outputId": "c5370728-3096-4a93-db4f-68dfd2dd06d5"
      },
      "source": [
        "#Task3\n",
        "class Team():\n",
        "  def __init__(self, c_name = 'Bangladesh'):\n",
        "      self.__c_name = c_name\n",
        "      self.__lst = []\n",
        "  def setName(self, x = None):\n",
        "    if x == None:\n",
        "      self.__c_name = 'Bangladesh'\n",
        "    else:\n",
        "      self.__c_name = x\n",
        "  def addPlayer(self, pl):\n",
        "    self.__lst.append(pl.pl_name)\n",
        "  def printDetail(self):\n",
        "    print('=====================')\n",
        "    print('Team:',self.__c_name)\n",
        "    print('List of players:')\n",
        "    print(self.__lst)\n",
        "    print('=====================')     \n",
        "class Player():\n",
        "  def __init__(self, pl_name):\n",
        "    self.pl_name = pl_name\n",
        "\n",
        "\n",
        "b = Team()\n",
        "b.setName('Bangladesh')\n",
        "mashrafi = Player(\"Mashrafi\")\n",
        "b.addPlayer(mashrafi)\n",
        "tamim = Player(\"Tamim\")\n",
        "b.addPlayer(tamim)\n",
        "b.printDetail()\n",
        "a = Team(\"Australia\")\n",
        "ponting = Player(\"Ponting\")\n",
        "a.addPlayer(ponting)\n",
        "lee = Player(\"Lee\")\n",
        "a.addPlayer(lee)\n",
        "a.printDetail()"
      ],
      "execution_count": null,
      "outputs": [
        {
          "output_type": "stream",
          "name": "stdout",
          "text": [
            "=====================\n",
            "Team: Bangladesh\n",
            "List of players:\n",
            "['Mashrafi', 'Tamim']\n",
            "=====================\n",
            "=====================\n",
            "Team: Australia\n",
            "List of players:\n",
            "['Ponting', 'Lee']\n",
            "=====================\n"
          ]
        }
      ]
    },
    {
      "cell_type": "code",
      "metadata": {
        "id": "MOrMpvX2Gp4c",
        "colab": {
          "base_uri": "https://localhost:8080/"
        },
        "outputId": "6f4c3c50-e6e7-465b-d435-679778f7417a"
      },
      "source": [
        "#Task4\n",
        "class Color():\n",
        "  def __init__(self, color):\n",
        "    self.clr = color\n",
        "  def __add__(self, x):\n",
        "    if self.clr == 'red' and x.clr == 'yellow' or self.clr =='yellow' and x.clr == 'red':\n",
        "      return color('Orange')\n",
        "    elif self.clr == 'red' and x.clr == 'blue' or self.clr =='blue' and x.clr == 'red':\n",
        "      return color('Violet')\n",
        "    elif self.clr == 'yellow' and x.clr == 'blue' or self.clr =='blue' and x.clr == 'yellow':\n",
        "      return color('Green')\n",
        "\n",
        "C1 = Color(input(\"First Color: \").lower())\n",
        "C2 = Color(input(\"Second Color: \").lower())\n",
        "C3 = C1 + C2\n",
        "print(\"Color formed:\", C3.clr)"
      ],
      "execution_count": null,
      "outputs": [
        {
          "output_type": "stream",
          "name": "stdout",
          "text": [
            "First Color: yellow\n",
            "Second Color: BLUE\n",
            "Color formed: Green\n"
          ]
        }
      ]
    },
    {
      "cell_type": "code",
      "metadata": {
        "colab": {
          "base_uri": "https://localhost:8080/"
        },
        "id": "LDL8tCm0pjiD",
        "outputId": "7ee2407c-abce-4f64-b9ec-9955d8b5e6c0"
      },
      "source": [
        "#Task5\n",
        "class Circle():\n",
        "  def __init__(self, r):\n",
        "    self.__radius = r\n",
        "  def setRadius(self, x):\n",
        "    self.__radius = x\n",
        "  def getRadius(self):\n",
        "    return self.__radius\n",
        "  def area(self):\n",
        "    import math\n",
        "    return (math.pi * self.__radius**2)\n",
        "  def __add__(self, b):\n",
        "    ans = Circle(self.__radius + b.__radius)\n",
        "    return ans\n",
        "\n",
        "c1 = Circle(4)\n",
        "print(\"First circle radius:\" , c1.getRadius())\n",
        "print(\"First circle area:\" ,c1.area())\n",
        "c2 = Circle(5)\n",
        "print(\"Second circle radius:\" ,c2.getRadius())\n",
        "print(\"Second circle area:\" ,c2.area())\n",
        "c3 = c1 + c2\n",
        "print(\"Third circle radius:\" ,c3.getRadius())\n",
        "print(\"Third circle area:\" ,c3.area())"
      ],
      "execution_count": null,
      "outputs": [
        {
          "output_type": "stream",
          "name": "stdout",
          "text": [
            "First circle radius: 4\n",
            "First circle area: 50.26548245743669\n",
            "Second circle radius: 5\n",
            "Second circle area: 78.53981633974483\n",
            "Third circle radius: 9\n",
            "Third circle area: 254.46900494077323\n"
          ]
        }
      ]
    },
    {
      "cell_type": "code",
      "metadata": {
        "id": "Kitb-CE8w3rK",
        "colab": {
          "base_uri": "https://localhost:8080/"
        },
        "outputId": "5109fca0-3c28-4b4d-8a54-f6bd1d22b6f7"
      },
      "source": [
        "#Task6\n",
        "class Triangle():\n",
        "  def __init__(self, b, h):\n",
        "    self.__base = b\n",
        "    self.__height = h\n",
        "  def setBase(self, x):\n",
        "    self.__base = x\n",
        "  def setHeight(self, y):\n",
        "    self.__height = y\n",
        "  def getBase(self):\n",
        "    return self.__base\n",
        "  def getHeight(self):\n",
        "    return self.__height\n",
        "  def area(self):\n",
        "    area = 1/2 * self.__base * self.__height\n",
        "    return area\n",
        "  def __sub__(self, z):\n",
        "    b3 = self.__base - z.__base\n",
        "    h3 = self.__height - z.__height\n",
        "    return Triangle(b3,h3)\n",
        "t1 = Triangle(10, 5)\n",
        "print(\"First Triangle Base:\" , t1.getBase())\n",
        "print(\"First Triangle Height:\" , t1.getHeight())\n",
        "print(\"First Triangle area:\" ,t1.area())\n",
        "t2 = Triangle(5, 3)\n",
        "print(\"Second Triangle Base:\" , t2.getBase())\n",
        "print(\"Second Triangle Height:\" , t2.getHeight())\n",
        "print(\"Second Triangle area:\" ,t2.area())\n",
        "t3 = t1 - t2\n",
        "print(\"Third Triangle Base:\" , t3.getBase())\n",
        "print(\"Third Triangle Height:\" , t3.getHeight())\n",
        "print(\"Third Triangle area:\" ,t3.area())"
      ],
      "execution_count": null,
      "outputs": [
        {
          "output_type": "stream",
          "name": "stdout",
          "text": [
            "First Triangle Base: 10\n",
            "First Triangle Height: 5\n",
            "First Triangle area: 25.0\n",
            "Second Triangle Base: 5\n",
            "Second Triangle Height: 3\n",
            "Second Triangle area: 7.5\n",
            "Third Triangle Base: 5\n",
            "Third Triangle Height: 2\n",
            "Third Triangle area: 5.0\n"
          ]
        }
      ]
    },
    {
      "cell_type": "code",
      "metadata": {
        "id": "GtXIPakmHm7Z",
        "colab": {
          "base_uri": "https://localhost:8080/"
        },
        "outputId": "373b4997-fcc0-4dce-a7c8-3d9d670daa18"
      },
      "source": [
        "#Task7\n",
        "class Dolls():\n",
        "  def __init__(self, d, p):\n",
        "    self.doll = d\n",
        "    self.price = p\n",
        "  def detail(self):\n",
        "    print('Doll:',self.doll)\n",
        "    return f'Total Price: {self.price} taka'\n",
        "  def __add__(self, ot):\n",
        "    dolls = self.doll + ot.doll\n",
        "    total_price = int(self.price) + int(ot.price)\n",
        "    return Dolls(dolls, total_price)\n",
        "  def __gt__(self, ot):\n",
        "    return self.price > ot.price\n",
        "\n",
        "obj_1 = Dolls(\"Tweety\", 2500)\n",
        "print(obj_1.detail())\n",
        "if obj_1 > obj_1:\n",
        "  print(\"Congratulations! You get the Tweety as a gift!\")\n",
        "else:\n",
        "  print(\"Thank you!\")\n",
        "print(\"=========================\")\n",
        "obj_2 = Dolls(\"Daffy Duck\", 1800)\n",
        "print(obj_2.detail())\n",
        "if obj_2 > obj_1:\n",
        "  print(\"Congratulations! You get the Tweety as a gift!\")\n",
        "else:\n",
        "  print(\"Thank you!\")\n",
        "print(\"=========================\")\n",
        "obj_3 = Dolls(\"Bugs Bunny\", 3000)\n",
        "print(obj_3.detail())\n",
        "if obj_3 > obj_1:\n",
        "  print(\"Congratulations! You get the Tweety as a gift!\")\n",
        "else:\n",
        "  print(\"Thank you!\")\n",
        "print(\"=========================\")\n",
        "obj_4 = Dolls(\"Porky Pig\", 1500)\n",
        "print(obj_4.detail())\n",
        "if obj_4 > obj_1:\n",
        "  print(\"Congratulations! You get the Tweety as a gift!\")\n",
        "else:\n",
        "  print(\"Thank you!\")\n",
        "print(\"=========================\")\n",
        "obj_5 = obj_2 + obj_3\n",
        "print(obj_5.detail())\n",
        "if obj_5 > obj_1:\n",
        "  print(\"Congratulations! You get the Tweety as a gift!\")\n",
        "else:\n",
        "  print(\"Thank you!\")"
      ],
      "execution_count": null,
      "outputs": [
        {
          "output_type": "stream",
          "name": "stdout",
          "text": [
            "Doll: Tweety\n",
            "Total Price: 2500 taka\n",
            "Thank you!\n",
            "=========================\n",
            "Doll: Daffy Duck\n",
            "Total Price: 1800 taka\n",
            "Thank you!\n",
            "=========================\n",
            "Doll: Bugs Bunny\n",
            "Total Price: 3000 taka\n",
            "Congratulations! You get the Tweety as a gift!\n",
            "=========================\n",
            "Doll: Porky Pig\n",
            "Total Price: 1500 taka\n",
            "Thank you!\n",
            "=========================\n",
            "Doll: Daffy DuckBugs Bunny\n",
            "Total Price: 4800 taka\n",
            "Congratulations! You get the Tweety as a gift!\n"
          ]
        }
      ]
    },
    {
      "cell_type": "code",
      "metadata": {
        "colab": {
          "base_uri": "https://localhost:8080/"
        },
        "id": "hsMfaucjRATg",
        "outputId": "5fcad97b-b426-45ac-9748-34c5f1ccb2fa"
      },
      "source": [
        "#Task8\n",
        "class Coordinates():\n",
        "  def __init__(self, n1, n2):\n",
        "    self.x = n1\n",
        "    self.y = n2\n",
        "  def __sub__(self, ot):\n",
        "    x1 = self.x - ot.x\n",
        "    y1 = self.y - ot.y\n",
        "    return Coordinates(x1,y1)\n",
        "  def __mul__(self, ot):\n",
        "    x1 = self.x * ot.x\n",
        "    y1 = self.y * ot.y\n",
        "    return Coordinates(x1,y1)\n",
        "  def __eq__(self, ot):\n",
        "    if self.x == ot.x and self.y == ot.y:\n",
        "      return 'The calculated coordinates are the same.'\n",
        "    else:\n",
        "      return 'The calculated coordinates are NOT the same.'\n",
        "  def detail(self):\n",
        "    return (self.x, self.y)\n",
        "\n",
        "p1 = Coordinates(int(input()),int(input()))\n",
        "p2 = Coordinates(int(input()),int(input()))\n",
        "p4 = p1 - p2\n",
        "print(p4.detail())\n",
        "p5 = p1 * p2\n",
        "print(p5.detail())\n",
        "point_check = (p4 == p5)\n",
        "print(point_check)"
      ],
      "execution_count": null,
      "outputs": [
        {
          "output_type": "stream",
          "name": "stdout",
          "text": [
            "1\n",
            "2\n",
            "3\n",
            "4\n",
            "(-2, -2)\n",
            "(3, 8)\n",
            "The calculated coordinates are NOT the same.\n"
          ]
        }
      ]
    }
  ]
}