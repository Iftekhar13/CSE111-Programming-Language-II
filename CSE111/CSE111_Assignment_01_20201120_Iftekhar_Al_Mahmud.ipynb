{
  "nbformat": 4,
  "nbformat_minor": 0,
  "metadata": {
    "colab": {
      "name": "Assignment 01_20201120_Iftekhar Al-Mahmud.ipnyb",
      "provenance": [],
      "collapsed_sections": []
    },
    "kernelspec": {
      "name": "python3",
      "display_name": "Python 3"
    },
    "language_info": {
      "name": "python"
    }
  },
  "cells": [
    {
      "cell_type": "code",
      "metadata": {
        "colab": {
          "base_uri": "https://localhost:8080/"
        },
        "id": "aNRPa79ZfymH",
        "outputId": "ec970aca-b45c-4a41-e133-31ae69359445"
      },
      "source": [
        "#String\n",
        "#Task 1\n",
        "string = input('please enter a string: ')\n",
        "uppercase=0\n",
        "lowercase=0\n",
        "for char in string:\n",
        "  if ord(char)>=65 and ord(char)<=90:\n",
        "    uppercase=uppercase+1\n",
        "  elif (ord(char)>=97 and ord(char)<=122):\n",
        "    lowercase=lowercase+1\n",
        "if uppercase>lowercase:\n",
        "  print(string.upper())\n",
        "elif lowercase==uppercase:\n",
        "  print(string.lower())\n",
        "else:\n",
        "  print(string.lower())\n",
        "\n",
        "      \n"
      ],
      "execution_count": null,
      "outputs": [
        {
          "output_type": "stream",
          "name": "stdout",
          "text": [
            "please enter a string: HOusE\n",
            "HOUSE\n"
          ]
        }
      ]
    },
    {
      "cell_type": "code",
      "metadata": {
        "colab": {
          "base_uri": "https://localhost:8080/"
        },
        "id": "pbuQ0pmHhuRG",
        "outputId": "d2f15116-6c6b-4f25-dcd5-6c60279ab9c0"
      },
      "source": [
        "#Task 2\n",
        "string = input('please enter a string: ')\n",
        "word = 0\n",
        "digit = 0\n",
        "for char in string:\n",
        "    if (char>='A' and char<='Z') or (char>='a' and char<='z'):\n",
        "      word = word + 1\n",
        "    elif (char>'0' and char<='9'):\n",
        "      digit = digit + 1\n",
        "if word > 0 and digit == 0:\n",
        "  print('WORD')\n",
        "elif digit > 0 and word == 0:\n",
        "  print('NUMBER')\n",
        "elif word > 0 and digit > 0:\n",
        "  print('MIXED')\n",
        "  \n",
        "\n",
        "\n",
        "\n",
        "\n",
        "\n"
      ],
      "execution_count": null,
      "outputs": [
        {
          "output_type": "stream",
          "name": "stdout",
          "text": [
            "please enter a string: 213213\n",
            "NUMBER\n"
          ]
        }
      ]
    },
    {
      "cell_type": "code",
      "metadata": {
        "colab": {
          "base_uri": "https://localhost:8080/"
        },
        "id": "ZZXup9ijAajB",
        "outputId": "c3c13885-8a8e-4830-d701-2b72800d8da6"
      },
      "source": [
        "#Task 3\n",
        "string = input('please enter a string: ')\n",
        "ans = (\"\")\n",
        "flag = 0\n",
        "for char in string:\n",
        "  if char>='A' and char<='Z':\n",
        "    flag = flag + 1\n",
        "  if flag==1 and(char>='a' and char<='z'):\n",
        "    ans = ans + char\n",
        "  if flag == 2:\n",
        "    break \n",
        "print(ans)\n",
        "if ans == (''):\n",
        "  print('BLANK')\n"
      ],
      "execution_count": null,
      "outputs": [
        {
          "output_type": "stream",
          "name": "stdout",
          "text": [
            "please enter a string: baNgladEsh\n",
            "glad\n"
          ]
        }
      ]
    },
    {
      "cell_type": "code",
      "metadata": {
        "colab": {
          "base_uri": "https://localhost:8080/"
        },
        "id": "VpJXewXyICse",
        "outputId": "c28c3d91-5571-44a3-f26c-1f7a6b5a58a5"
      },
      "source": [
        "#Task 4\n",
        "string = input('please enter a string: ')\n",
        "ans=('')\n",
        "end = '!'\n",
        "split = string.split('too good')\n",
        "if 'too good' in string:\n",
        "  ans = split[0] + 'excellent' + end\n",
        "  print(ans)\n",
        "else:\n",
        "  print(string)\n"
      ],
      "execution_count": null,
      "outputs": [
        {
          "output_type": "stream",
          "name": "stdout",
          "text": [
            "please enter a string: The book is not too good!\n",
            "The book is not excellent!\n"
          ]
        }
      ]
    },
    {
      "cell_type": "code",
      "metadata": {
        "colab": {
          "base_uri": "https://localhost:8080/"
        },
        "id": "eGWE7y1rKFX0",
        "outputId": "0fbd905c-a289-4d2e-e3fc-c51b9ba67bdd"
      },
      "source": [
        "#Task 5\n",
        "input1 = input('please enter a number: ')\n",
        "input2 = input('please enter a number: ')\n",
        "ans = (\"\")\n",
        "for char1 in input1:\n",
        "  if char1 in input2:\n",
        "    ans = ans + char1\n",
        "for char2 in input2:\n",
        "  if char2 in input1:\n",
        "    ans = ans + char2\n",
        "print(ans)\n",
        "if ans == (\"\"):\n",
        "  print(\"Nothing in common.\")"
      ],
      "execution_count": null,
      "outputs": [
        {
          "output_type": "stream",
          "name": "stdout",
          "text": [
            "please enter a number: harry\n",
            "please enter a number: hermione\n",
            "hrrhr\n"
          ]
        }
      ]
    },
    {
      "cell_type": "code",
      "metadata": {
        "colab": {
          "base_uri": "https://localhost:8080/"
        },
        "id": "-OLACixG1tB2",
        "outputId": "158edd01-cd1c-48b8-c17b-c4deef91bc25"
      },
      "source": [
        "#Task 6\n",
        "string = input('please enter a number: ')\n",
        "upper = 0\n",
        "lower = 0\n",
        "digit = 0\n",
        "special = 0\n",
        "for char in string:\n",
        "  if char == '_' or char == '$' or char == '#' or char == '@':\n",
        "    special = special + 1\n",
        "  if char >= 'A' and char <='Z':\n",
        "    upper = upper + 1\n",
        "  if char >= 'a' and char <= 'z':\n",
        "    lower = lower + 1\n",
        "  if char >= '0' and char <= '9':\n",
        "    digit = digit + 1\n",
        "error = []\n",
        "if special == 0:\n",
        "  error = error + ['Special character missing']\n",
        "if upper == 0:\n",
        "  error = error + ['Uppercase character missing']\n",
        "if lower == 0:\n",
        "  error = error + ['Lower character missing']\n",
        "if digit == 0:\n",
        "  error = error + ['Digit missing']\n",
        "if len(error) == 0:\n",
        "  print('OK')\n",
        "else:\n",
        "  print(error)\n"
      ],
      "execution_count": null,
      "outputs": [
        {
          "output_type": "stream",
          "name": "stdout",
          "text": [
            "please enter a number: OhMyBR@CU20\n",
            "OK\n"
          ]
        }
      ]
    },
    {
      "cell_type": "code",
      "metadata": {
        "colab": {
          "base_uri": "https://localhost:8080/"
        },
        "id": "e1ClTY0QZvT0",
        "outputId": "559ed5c2-7141-43c9-ab0c-75b9b2128dbb"
      },
      "source": [
        "#List\n",
        "#Task 1\n",
        "list1=[]\n",
        "while True:\n",
        "    digit = input('Enter a digit: ')\n",
        "    if digit.upper() == 'STOP':\n",
        "        break\n",
        "    else:\n",
        "        list1.append(digit)\n",
        "lst2=[]\n",
        "for x in list1:\n",
        "    if x not in lst2:\n",
        "        lst2.append(x)\n",
        "for num in lst2:\n",
        "    print(num,\"-\",list1.count(num),'times')\n"
      ],
      "execution_count": null,
      "outputs": [
        {
          "output_type": "stream",
          "name": "stdout",
          "text": [
            "Enter any value: 10\n",
            "Enter any value: 20\n",
            "Enter any value: 20\n",
            "Enter any value: 30\n",
            "Enter any value: 10\n",
            "Enter any value: 50\n",
            "Enter any value: 90\n",
            "Enter any value: STOP\n",
            "10 - 2 times\n",
            "20 - 2 times\n",
            "30 - 1 times\n",
            "50 - 1 times\n",
            "90 - 1 times\n"
          ]
        }
      ]
    },
    {
      "cell_type": "code",
      "metadata": {
        "id": "FgAPM7ouK-Zv",
        "colab": {
          "base_uri": "https://localhost:8080/"
        },
        "outputId": "d0d3e78d-7aab-4fde-ab54-e6a68349129e"
      },
      "source": [
        "#Task 2\n",
        "N = int(input('enter the number of lists: '))\n",
        "maxlist = []\n",
        "total = []\n",
        "maxsum = 0\n",
        "for x in range(N):\n",
        "  lst = input('enter your lists: ').split()\n",
        "  for a in range(len(lst)):\n",
        "    lst[a] = int(lst[a])\n",
        "  maxlist.append(lst)\n",
        "  sum = 0\n",
        "  for y in lst:\n",
        "    sum = sum + y\n",
        "  total.append(sum)\n",
        "for b in total:\n",
        "  if b > maxsum:\n",
        "    maxsum = b\n",
        "print(maxsum)\n",
        "q = total.index(maxsum)\n",
        "print(maxlist[q])\n"
      ],
      "execution_count": null,
      "outputs": [
        {
          "output_type": "stream",
          "name": "stdout",
          "text": [
            "enter the number of lists: 4\n",
            "enter your lists: 1 2 3\n",
            "enter your lists: 4 5 6\n",
            "enter your lists: 10 11 12\n",
            "enter your lists: 7 8 9\n",
            "33\n",
            "[10, 11, 12]\n"
          ]
        }
      ]
    },
    {
      "cell_type": "code",
      "metadata": {
        "colab": {
          "base_uri": "https://localhost:8080/"
        },
        "id": "iDvFhGvvWtS4",
        "outputId": "8abcba84-b8eb-4fb2-a2a6-a70da9bac854"
      },
      "source": [
        "#Task 3\n",
        "answer = []\n",
        "lst1 = input('please enter a list: ').split()\n",
        "lst2 = input('please enter a list: ').split()\n",
        "for num1 in lst1:\n",
        "  for num2 in lst2:\n",
        "    multiply = int(num1) * int(num2)\n",
        "    answer.append(multiply)\n",
        "print(answer) \n"
      ],
      "execution_count": null,
      "outputs": [
        {
          "output_type": "stream",
          "name": "stdout",
          "text": [
            "please enter a list: 2 3 6\n",
            "please enter a list: 3 4 5\n",
            "[6, 8, 10, 9, 12, 15, 18, 24, 30]\n"
          ]
        }
      ]
    },
    {
      "cell_type": "code",
      "metadata": {
        "colab": {
          "base_uri": "https://localhost:8080/"
        },
        "id": "Ma0eGk2nvpmE",
        "outputId": "359f186a-91e9-43f9-e97e-29a6b1e45170"
      },
      "source": [
        "#Task 4     \n",
        "ans = []\n",
        "while True:\n",
        "  lst = input('please enter a lst: ')\n",
        "  if lst.upper()=='STOP':\n",
        "    break  \n",
        "  else:\n",
        "    ans.append(lst)\n",
        "for a in ans:\n",
        "  ub = True\n",
        "  list1=a.split(' ')  \n",
        "  for x in range(len(list1)-1):\n",
        "    if 1 <= abs(int(list1[x])- int(list1[x + 1])) < len(list1):\n",
        "      ub = True\n",
        "    else:\n",
        "      ub=False\n",
        "      break      \n",
        "  if ub == True:\n",
        "    print('UB jumper')\n",
        "  else:\n",
        "    print('not UB jumper')\n",
        "  \n",
        "  "
      ],
      "execution_count": null,
      "outputs": [
        {
          "output_type": "stream",
          "name": "stdout",
          "text": [
            "please enter a lst: 1 4 2 3\n",
            "please enter a lst: 2 1 4 6 10\n",
            "please enter a lst: 1 4 2 -1 6\n",
            "please enter a lst: STOP\n",
            "UB jumper\n",
            "UB jumper\n",
            "not UB jumper\n"
          ]
        }
      ]
    },
    {
      "cell_type": "code",
      "metadata": {
        "colab": {
          "base_uri": "https://localhost:8080/"
        },
        "id": "kk6pnl_B_z02",
        "outputId": "1625fc95-8da3-4fea-9541-02f84c10afe5"
      },
      "source": [
        "#Task 5\n",
        "string = 'Bracu1234'\n",
        "upper = []\n",
        "lower = []\n",
        "number = []\n",
        "for char in string:\n",
        "  if char >='A' and char <= 'Z':\n",
        "      upper.append(char)\n",
        "  if char >= 'a' and char <= 'z':\n",
        "      lower.append(char)\n",
        "odd = []\n",
        "even = []  \n",
        "for char in string:\n",
        "  if char >= '0' and char <= '9':\n",
        "    \n",
        "    if int(char)%2==0:\n",
        "      even.append(char)\n",
        "    else:\n",
        "      odd.append(char)\n",
        "lower.sort()\n",
        "upper.sort()\n",
        "even.sort()\n",
        "odd.sort()\n",
        "\n",
        "ans =lower+upper+odd+even\n",
        "for x in ans:\n",
        "  print(x, end = '')\n",
        "\n",
        "\n"
      ],
      "execution_count": null,
      "outputs": [
        {
          "output_type": "stream",
          "name": "stdout",
          "text": [
            "acruB1324"
          ]
        }
      ]
    },
    {
      "cell_type": "code",
      "metadata": {
        "colab": {
          "base_uri": "https://localhost:8080/"
        },
        "id": "yOMI4j72cvAc",
        "outputId": "d4549e9e-fece-402f-aaa1-a3d3470b73cc"
      },
      "source": [
        "#Task 6\n",
        "programmers = []\n",
        "prog = int(input('enter the number of students: '))\n",
        "attempt = int(input('please enter the number of times: '))\n",
        "for x in range(prog):\n",
        "  participants = int(input('enter the number of participants: '))\n",
        "  programmers.append(participants)\n",
        "lst = []\n",
        "for y in programmers:\n",
        "  if y+attempt<=5:\n",
        "    lst.append(y)\n",
        "group = len(lst)//3\n",
        "print(group)\n",
        "  \n"
      ],
      "execution_count": null,
      "outputs": [
        {
          "output_type": "stream",
          "name": "stdout",
          "text": [
            "enter the number of students: 6\n",
            "please enter the number of times: 5\n",
            "enter the number of participants: 0\n",
            "enter the number of participants: 0\n",
            "enter the number of participants: 0\n",
            "enter the number of participants: 0\n",
            "enter the number of participants: 0\n",
            "enter the number of participants: 0\n",
            "2\n"
          ]
        }
      ]
    },
    {
      "cell_type": "code",
      "metadata": {
        "id": "vrcOT5u31mqR",
        "colab": {
          "base_uri": "https://localhost:8080/"
        },
        "outputId": "6e3efbc2-db5a-47cf-9b3f-ff7840ab53ab"
      },
      "source": [
        "#Dictionary and Tuple\n",
        "#Task 1\n",
        "dict1 = {}\n",
        "user_input = int(input('enter the number of elements for your dictionary: '))\n",
        "for x in range(user_input):\n",
        "  k = input('enter a key: ')\n",
        "  v = int(input('enter a value: '))\n",
        "  dict1[k] = v\n",
        "  print(dict1)\n",
        "dict2 = {}\n",
        "user_input = int(input('enter the number of elements for your dictionary: '))\n",
        "for y in range(user_input):\n",
        "  k = input('enter a key: ')\n",
        "  v = int(input('enter a value: '))\n",
        "  dict2[k] = v\n",
        "dict3 = {}\n",
        "dict3.update(dict1)\n",
        "dict3.update(dict2)\n",
        "for x,y in dict1.items():\n",
        "  for a,b in dict2.items():\n",
        "    if x == a:\n",
        "      dict3[x]=(y+b)\n",
        "print(dict3)\n",
        "lst = []\n",
        "for x,y in dict3.items():\n",
        "  if y not in lst:\n",
        "    lst.append(y)\n",
        "    tuple(lst)\n",
        "    lst.sort()\n",
        "print(lst)\n",
        "\n"
      ],
      "execution_count": null,
      "outputs": [
        {
          "output_type": "stream",
          "name": "stdout",
          "text": [
            "enter the number of elements for your dictionary: 4\n",
            "enter a key: a\n",
            "enter a value: 100\n",
            "{'a': 100}\n",
            "enter a key: b\n",
            "enter a value: 100\n",
            "{'a': 100, 'b': 100}\n",
            "enter a key: c\n",
            "enter a value: 200\n",
            "{'a': 100, 'b': 100, 'c': 200}\n",
            "enter a key: d\n",
            "enter a value: 300\n",
            "{'a': 100, 'b': 100, 'c': 200, 'd': 300}\n",
            "enter the number of elements for your dictionary: 4\n",
            "enter a key: a\n",
            "enter a value: 300\n",
            "enter a key: b\n",
            "enter a value: 200\n",
            "enter a key: d\n",
            "enter a value: 400\n",
            "enter a key: e\n",
            "enter a value: 200\n",
            "{'a': 400, 'b': 300, 'c': 200, 'd': 700, 'e': 200}\n",
            "[200, 300, 400, 700]\n"
          ]
        }
      ]
    },
    {
      "cell_type": "code",
      "metadata": {
        "id": "f1EhgcCfJORH",
        "colab": {
          "base_uri": "https://localhost:8080/"
        },
        "outputId": "39023a46-d875-40a8-81e5-9fd0beac2c3e"
      },
      "source": [
        "#Task 2\n",
        "num_dict = {}\n",
        "while True:\n",
        "  user_input = input('please enter a number: ')\n",
        "  if user_input.upper() == 'STOP':\n",
        "    break\n",
        "  elif user_input in num_dict:\n",
        "    num_dict[user_input] = num_dict[user_input] + 1\n",
        "  else:\n",
        "    num_dict[user_input]= 1\n",
        "for k,v in num_dict.items():\n",
        "  print(k,'-',v,'times')\n",
        "\n",
        "\n"
      ],
      "execution_count": null,
      "outputs": [
        {
          "output_type": "stream",
          "name": "stdout",
          "text": [
            "please enter a number: 10\n",
            "please enter a number: 20\n",
            "please enter a number: 20\n",
            "please enter a number: 30\n",
            "please enter a number: 10\n",
            "please enter a number: 50\n",
            "please enter a number: 90\n",
            "please enter a number: STOP\n",
            "10 - 2 times\n",
            "20 - 2 times\n",
            "30 - 1 times\n",
            "50 - 1 times\n",
            "90 - 1 times\n"
          ]
        }
      ]
    },
    {
      "cell_type": "code",
      "metadata": {
        "colab": {
          "base_uri": "https://localhost:8080/"
        },
        "id": "5RD0CKXUFB3b",
        "outputId": "0cca2d75-3901-4604-a6a6-39df7c933ed6"
      },
      "source": [
        "#Task 3\n",
        "dict1 = {}\n",
        "num = int(input('enter the number of elements for your dictionary: '))\n",
        "for x in range(num):\n",
        "  k = input('enter a key: ')\n",
        "  v = input('enter a value: ')\n",
        "  dict1[k] = v\n",
        "dict2 = {} \n",
        "for a,b in dict1.items():\n",
        "  if b in dict2:\n",
        "    dict2[b].append(a)\n",
        "  else:\n",
        "    dict2[b] = [a]\n",
        "print(dict2)"
      ],
      "execution_count": null,
      "outputs": [
        {
          "output_type": "stream",
          "name": "stdout",
          "text": [
            "enter the number of elements for your dictionary: 3\n",
            "enter a key: key1\n",
            "enter a value: value1\n",
            "enter a key: key2\n",
            "enter a value: value2\n",
            "enter a key: key3\n",
            "enter a value: value1\n",
            "{'value1': ['key1', 'key3'], 'value2': ['key2']}\n"
          ]
        }
      ]
    },
    {
      "cell_type": "code",
      "metadata": {
        "colab": {
          "base_uri": "https://localhost:8080/"
        },
        "id": "LU6v-yzTS2RH",
        "outputId": "2a53f109-9cb4-4958-e68e-5e464fb5a368"
      },
      "source": [
        "#Task 4\n",
        "word1 = input('please enter a word: ')\n",
        "word2 = input('please enter a word: ')\n",
        "dict1 = {}\n",
        "dict2 = {}\n",
        "for char1 in word1:\n",
        "  if char1 in dict1:\n",
        "    dict1[char1]=dict1[char1]+1\n",
        "  else:\n",
        "    dict1[char1]=1\n",
        "for char2 in word2:\n",
        "  if char2 in dict2:\n",
        "    dict2[char2]=dict2[char2]+1\n",
        "  else:\n",
        "    dict2[char2]=1\n",
        "if dict1 == dict2:\n",
        "  print('Those strings are anagrams.')\n",
        "else:\n",
        "  print('strings are not anagram.')"
      ],
      "execution_count": null,
      "outputs": [
        {
          "output_type": "stream",
          "name": "stdout",
          "text": [
            "please enter a word: evil\n",
            "please enter a word: live\n",
            "Those strings are anagrams.\n"
          ]
        }
      ]
    },
    {
      "cell_type": "code",
      "metadata": {
        "colab": {
          "base_uri": "https://localhost:8080/"
        },
        "id": "OHbWQDT_Y2yG",
        "outputId": "60cfdb71-ac78-4caf-d082-4556db48d29b"
      },
      "source": [
        "#Task 5\n",
        "dict1 = {1:['.',',','!','?','!',':'], 2:['A','B','C'], 3:['D','E','F'], 4:['G','H','I'], 5:['J','K','L'], 6:['M','N','O'], 7:['P','Q','R','S'], 8:['T','U','V'], 9:['W','X','Y','Z'], 0:[' ']}\n",
        "string = input('please enter a string: ').upper()\n",
        "result = ('')\n",
        "for char in string:\n",
        "  for k,v in dict1.items():\n",
        "    output = 0\n",
        "    if char in v:\n",
        "      output = v.index(char) + 1\n",
        "      for x in range(output):\n",
        "        result = result + str(k) \n",
        "print(result)"
      ],
      "execution_count": null,
      "outputs": [
        {
          "output_type": "stream",
          "name": "stdout",
          "text": [
            "please enter a string: Hello, World!\n",
            "443355555566611096667775553111\n"
          ]
        }
      ]
    }
  ]
}