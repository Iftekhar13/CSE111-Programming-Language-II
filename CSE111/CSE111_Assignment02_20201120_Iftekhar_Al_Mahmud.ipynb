{
  "nbformat": 4,
  "nbformat_minor": 0,
  "metadata": {
    "colab": {
      "name": "Assignment02_20201120_Iftekhar Al-Mahmud.ipynb",
      "provenance": [],
      "collapsed_sections": []
    },
    "kernelspec": {
      "name": "python3",
      "display_name": "Python 3"
    },
    "language_info": {
      "name": "python"
    }
  },
  "cells": [
    {
      "cell_type": "code",
      "metadata": {
        "colab": {
          "base_uri": "https://localhost:8080/"
        },
        "id": "W0oTCISLdfI0",
        "outputId": "c17505f5-5975-4ccd-dfc8-07e348efe612"
      },
      "source": [
        "#Functions\n",
        "#Task 1\n",
        "numerator = int(input('please enter a number: '))\n",
        "denominator = int(input('please enter a number: '))\n",
        "def function(a,b):\n",
        "  result = 0\n",
        "  if a==0 or b==0:\n",
        "    print('0')\n",
        "  else:\n",
        "    x = a//b\n",
        "    result = (a/b)-x\n",
        "  return result\n",
        "function(numerator,denominator)\n"
      ],
      "execution_count": null,
      "outputs": [
        {
          "name": "stdout",
          "output_type": "stream",
          "text": [
            "please enter a number: 5\n",
            "please enter a number: 2\n"
          ]
        },
        {
          "output_type": "execute_result",
          "data": {
            "text/plain": [
              "0.5"
            ]
          },
          "metadata": {},
          "execution_count": 57
        }
      ]
    },
    {
      "cell_type": "code",
      "metadata": {
        "colab": {
          "base_uri": "https://localhost:8080/"
        },
        "id": "vSDEZ2dyoh5O",
        "outputId": "3e3916d0-8d5c-4503-e852-a5c20edab24e"
      },
      "source": [
        "#Task 2\n",
        "height = int(input('please enter a height: '))/100\n",
        "weight = int(input('please enter a weight: '))\n",
        "def amikenomota(h, w):\n",
        "  BMI = w/h**2\n",
        "  BMI = round(BMI,1)\n",
        "  if BMI < 18.5:\n",
        "    output = \"Underweight\"\n",
        "  if BMI >= 18.5 and BMI <= 24.9:\n",
        "    output = 'Normal'\n",
        "  if BMI >= 25 and BMI <= 30:\n",
        "    output = 'overweight'\n",
        "  if BMI > 30:\n",
        "    output = 'Obese'\n",
        "  return 'Score is'+' '+str(BMI)+'.'+' You are'+' '+output\n",
        "print(amikenomota(height,weight))"
      ],
      "execution_count": null,
      "outputs": [
        {
          "output_type": "stream",
          "name": "stdout",
          "text": [
            "please enter a height: 175\n",
            "please enter a weight: 96\n",
            "Score is 31.3. You are Obese\n"
          ]
        }
      ]
    },
    {
      "cell_type": "code",
      "metadata": {
        "colab": {
          "base_uri": "https://localhost:8080/"
        },
        "id": "4mxWOfcEzaj0",
        "outputId": "47850b9d-504a-4533-828c-56de48dc4934"
      },
      "source": [
        "#Task 3\n",
        "minval = int(input('enter the minimum value: '))\n",
        "maxval = int(input('enter the maximum value: '))\n",
        "div_val = int(input('enter a divisor: '))\n",
        "def function(max,min,div):\n",
        "  total = 0\n",
        "  for a in range(minval,maxval):\n",
        "      if a%div_val==0:\n",
        "        total = total + a\n",
        "  return total\n",
        "print(function(minval,maxval,div_val))\n"
      ],
      "execution_count": null,
      "outputs": [
        {
          "output_type": "stream",
          "name": "stdout",
          "text": [
            "enter the minimum value: 0\n",
            "enter the maximum value: 10\n",
            "enter a divisor: 2\n",
            "20\n"
          ]
        }
      ]
    },
    {
      "cell_type": "code",
      "metadata": {
        "colab": {
          "base_uri": "https://localhost:8080/"
        },
        "id": "mDLqc6gU_Aob",
        "outputId": "aa98261c-cb33-4ae1-cd0e-fc043d508040"
      },
      "source": [
        "#Task 4\n",
        "def order(n,p='Mohakhali'):\n",
        "    if name == 'BBQ Chicken Cheese Burger':\n",
        "        price = 250\n",
        "    if name == 'Beef Burger':\n",
        "        price = 170\n",
        "    if name == 'Naga Drums':\n",
        "        price = 200\n",
        "    if place == 'Mohakhali':\n",
        "        delivery_charge = 40\n",
        "    else:\n",
        "        delivery_charge = 60\n",
        "    total_price = 0\n",
        "    tax = (8/100)*price\n",
        "    total_price = price + delivery_charge + tax\n",
        "    print(total_price)\n",
        "\n",
        "\n",
        "name = input('enter the name of the item: ')\n",
        "place = input('enter your location: ')\n",
        "if place == '':\n",
        "    place = 'Mohakhali'\n",
        "else:\n",
        "    place = place\n",
        "order(name,place)"
      ],
      "execution_count": null,
      "outputs": [
        {
          "output_type": "stream",
          "name": "stdout",
          "text": [
            "enter the name of the item: Beef Burger\n",
            "enter your location: \n",
            "223.6\n"
          ]
        }
      ]
    },
    {
      "cell_type": "code",
      "metadata": {
        "colab": {
          "base_uri": "https://localhost:8080/"
        },
        "id": "Kjttg-YQZMBO",
        "outputId": "a7cff2e7-6231-4f65-983d-6788c19effde"
      },
      "source": [
        "#Task 5\n",
        "def replace_domain(em,nd,od=None):\n",
        "  email = ''\n",
        "  if od == None:\n",
        "    print('Unchanged: ', em)\n",
        "  else:\n",
        "    for x in em:\n",
        "      email = email + x\n",
        "      if x == '@':\n",
        "        break\n",
        "    email = email+nd\n",
        "    print('Changed: ', email)\n",
        "replace_domain('bob@sheba.xyz', 'sheba.xyz')\n",
        "\n"
      ],
      "execution_count": null,
      "outputs": [
        {
          "output_type": "stream",
          "name": "stdout",
          "text": [
            "Changed:  bob@sheba.xyz\n"
          ]
        }
      ]
    },
    {
      "cell_type": "code",
      "metadata": {
        "colab": {
          "base_uri": "https://localhost:8080/"
        },
        "id": "1ycvoU328k3J",
        "outputId": "b964d380-ce78-496c-cb0a-65ad268209a2"
      },
      "source": [
        "#Task 6\n",
        "vowels = ['a','e','i','o','u']\n",
        "\n",
        "name = input('enter your precious name: ').lower()\n",
        "def vowelchecker(name):\n",
        "  \n",
        "  vowelpresent = ''\n",
        "  result = ''\n",
        "  st = ''\n",
        "  for x in name:\n",
        "      if x in vowels:\n",
        "        vowelpresent = vowelpresent + x \n",
        "  for b in range(len(vowelpresent)):\n",
        "    if b == len(vowelpresent)-1:\n",
        "      st = st + vowelpresent[b]+'.'\n",
        "    else:\n",
        "      st = st+vowelpresent[b]+','\n",
        "  if len(vowelpresent) == 0:\n",
        "    result = 'No vowels in the name!'\n",
        "  else:\n",
        "    result = 'vowels: '+ st + ' Total number of vowels: ' + str(len(vowelpresent))\n",
        "  return result\n",
        "print(vowelchecker(name))\n"
      ],
      "execution_count": 6,
      "outputs": [
        {
          "output_type": "stream",
          "name": "stdout",
          "text": [
            "enter your precious name: Steve Jobs\n",
            "vowels: e,e,o. Total number of vowels: 3\n"
          ]
        }
      ]
    },
    {
      "cell_type": "code",
      "metadata": {
        "colab": {
          "base_uri": "https://localhost:8080/"
        },
        "id": "xbnMU-DrPLkX",
        "outputId": "f8e06f18-e13b-4645-c6ea-911d71328a03"
      },
      "source": [
        "#Task 7\n",
        "string = input('enter a string: ')\n",
        "def function(w):\n",
        "  word = ''\n",
        "  for x in string:\n",
        "    if x != \" \":\n",
        "      word = word + x\n",
        "\n",
        "  for y in range(len(word)//2):\n",
        "    if word[y] != word[-y-1]:\n",
        "      return 'Not a palindrome'\n",
        "      break\n",
        "    else:\n",
        "      return 'Palindrome'\n",
        "print(function(string))\n"
      ],
      "execution_count": null,
      "outputs": [
        {
          "output_type": "stream",
          "name": "stdout",
          "text": [
            "enter a string: nurses run\n",
            "Palindrome\n"
          ]
        }
      ]
    },
    {
      "cell_type": "code",
      "metadata": {
        "id": "twMbsDzicJXP",
        "colab": {
          "base_uri": "https://localhost:8080/"
        },
        "outputId": "f2474088-edb7-4a67-f682-5c89a825d39b"
      },
      "source": [
        "#Task 8\n",
        "number = int(input('please enter a number: '))\n",
        "def function(num):\n",
        "  years = num // 365\n",
        "  months = (num-years*365)//30\n",
        "  days = num-((years*365)+(months*30))\n",
        "  print(years,'years,',months,'months and',days,'days')\n",
        "function(number)"
      ],
      "execution_count": null,
      "outputs": [
        {
          "output_type": "stream",
          "name": "stdout",
          "text": [
            "please enter a number: 4320\n",
            "11 years, 10 months and 5 days\n"
          ]
        }
      ]
    },
    {
      "cell_type": "code",
      "metadata": {
        "colab": {
          "base_uri": "https://localhost:8080/"
        },
        "id": "Cei44ALwUy2W",
        "outputId": "6856c31c-a527-4d55-f9bb-2b893ee9a192"
      },
      "source": [
        "#Task 9\n",
        "text = input('enter a string: ')\n",
        "def function(txt):\n",
        "  sen = ''\n",
        "  for a in range(len(text)):\n",
        "    if a==0:\n",
        "      sen= sen+txt[a].upper()\n",
        "    elif a == 'i' and txt[a-1]==' ' and txt[a+2]==' ':\n",
        "        sen = sen + txt[a].upper()\n",
        "    elif (txt[a-2]=='.' or txt[a-2]=='?' or txt[a-2]=='!') and (txt[a-1]==' ') :\n",
        "        sen = sen + txt[a].upper()\n",
        "    else:\n",
        "        sen = sen + txt[a]\n",
        "\n",
        "  return sen\n",
        "print('ans: ',function(text))\n"
      ],
      "execution_count": 4,
      "outputs": [
        {
          "output_type": "stream",
          "name": "stdout",
          "text": [
            "enter a string: my favourite animal is a dog. a dog has sharp teeth so that it can eat flesh very easily. do you know my pet dog’s name? i love my pet very much.\n",
            "ans:  My favourite animal is a dog. A dog has sharp teeth so that it can eat flesh very easily. Do you know my pet dog’s name? I love my pet very much.\n"
          ]
        }
      ]
    }
  ]
}