{
  "nbformat": 4,
  "nbformat_minor": 0,
  "metadata": {
    "colab": {
      "name": "Assignment04_20201120_Iftekhar Al-Mahmud",
      "provenance": [],
      "collapsed_sections": []
    },
    "kernelspec": {
      "name": "python3",
      "display_name": "Python 3"
    },
    "language_info": {
      "name": "python"
    }
  },
  "cells": [
    {
      "cell_type": "code",
      "metadata": {
        "colab": {
          "base_uri": "https://localhost:8080/"
        },
        "id": "_6U7n-NPKZNS",
        "outputId": "354db35f-1f01-4c67-f752-4980b114b4a0"
      },
      "source": [
        "#Assignment04\n",
        "#Task1\n",
        "class calculator():\n",
        "  def __init__(self, first, op, second):\n",
        "    self.first_value = first\n",
        "    self.operator = op\n",
        "    self.second_value = second\n",
        "  print('Lets calculate!')\n",
        "  def add(self):\n",
        "    print('Result:',first_value + second_value)\n",
        "  def subtract(self):\n",
        "    print('Result:',first_value - second_value)\n",
        "  def multiply(self):\n",
        "    print('Result:',first_value * second_value)\n",
        "  def divide(self):\n",
        "    print('Result:',first_value / second_value)\n",
        "\n",
        "first_value = int(input('Value 1: '))\n",
        "operator = input('Operator: ')\n",
        "second_value = int(input('Value 2: '))\n",
        "calculate = calculator(first_value, operator, second_value)\n",
        "\n",
        "if operator == '+':\n",
        "  calculate.add()\n",
        "if operator == '-':\n",
        "  calculate.subtract()\n",
        "if operator == '*':\n",
        "  calculate.multiply()\n",
        "if operator == '/':\n",
        "  calculate.divide()\n",
        "\n"
      ],
      "execution_count": null,
      "outputs": [
        {
          "output_type": "stream",
          "name": "stdout",
          "text": [
            "Lets calculate!\n",
            "Value 1: 1\n",
            "Operator: +\n",
            "Value 2: 2\n",
            "Result: 3\n"
          ]
        }
      ]
    },
    {
      "cell_type": "code",
      "metadata": {
        "colab": {
          "base_uri": "https://localhost:8080/"
        },
        "id": "a2bzPRMyl71g",
        "outputId": "ed87e10b-889c-4346-adf8-6ad77dfd2251"
      },
      "source": [
        "#Task2\n",
        "class Customer():\n",
        "  def __init__(self, n):\n",
        "    self.name = n\n",
        "  def greet(self, n = None):\n",
        "      if n!=None:\n",
        "        print('Hello',n+'!')\n",
        "      else:\n",
        "        print('Hello!')\n",
        "  def purchase(self,*item):\n",
        "    print(self.name+',','you purchased',len(item),'items(s)')\n",
        "    for x in item:\n",
        "      print(x)\n",
        "\n",
        "customer_1 = Customer(\"Sam\")\n",
        "customer_1.greet()\n",
        "customer_1.purchase(\"chips\", \"chocolate\", \"orange juice\")\n",
        "print(\"-----------------------------\")\n",
        "customer_2 = Customer(\"David\")\n",
        "customer_2.greet(\"David\")\n",
        "customer_2.purchase(\"orange juice\")"
      ],
      "execution_count": null,
      "outputs": [
        {
          "output_type": "stream",
          "name": "stdout",
          "text": [
            "Hello!\n",
            "Sam, you purchased 3 items(s)\n",
            "chips\n",
            "chocolate\n",
            "orange juice\n",
            "-----------------------------\n",
            "Hello David!\n",
            "David, you purchased 1 items(s)\n",
            "orange juice\n"
          ]
        }
      ]
    },
    {
      "cell_type": "code",
      "metadata": {
        "colab": {
          "base_uri": "https://localhost:8080/"
        },
        "id": "p_YSpkjS8GJm",
        "outputId": "99373d57-4636-43b2-d94b-7c90d4efe5d6"
      },
      "source": [
        "#Task3\n",
        "class Panda():\n",
        "  def __init__(self, nam, gen, age):\n",
        "    self.name = nam\n",
        "    self.gender = gen\n",
        "    self.age = age\n",
        "  def sleep(self, t=None):\n",
        "    self.time = t\n",
        "    if self.time!= None:\n",
        "      if self.time>=3 and self.time<=5:\n",
        "        return f'{self.name} sleeps {self.time} hours daily and should have Mixed Veggies'\n",
        "      elif self.time>=6 and self.time<=8:\n",
        "        return f'{self.name} sleeps {self.time} hours daily and should have Eggplant & Tofu'\n",
        "      elif self.time>=9 and self.time<=11:\n",
        "        return f'{self.name} sleeps {self.time} hours daily and should have Broccoli Chicken'\n",
        "    else:\n",
        "        return f\"{self.name}'s duration is unknown thus should have only bamboo leaves\"\n",
        "\n",
        "\n",
        "\n",
        "panda1 = Panda(\"Kunfu\",\"Male\", 5)\n",
        "panda2=Panda(\"Pan Pan\",\"Female\",3)\n",
        "panda3=Panda(\"Ming Ming\",\"Female\",8)\n",
        "print(\"{} is a {} Panda Bear who is {} years old\".format(panda1.name,panda1.gender,panda1.age))\n",
        "print(\"{} is a {} Panda Bear who is {} years old\".format(panda2.name,panda2.gender,panda2.age))\n",
        "print(\"{} is a {} Panda Bear who is {} years old\".format(panda3.name,panda3.gender,panda3.age))\n",
        "print(\"===========================\")\n",
        "print(panda2.sleep(10))\n",
        "print(panda1.sleep(4))\n",
        "print(panda3.sleep())"
      ],
      "execution_count": null,
      "outputs": [
        {
          "output_type": "stream",
          "name": "stdout",
          "text": [
            "Kunfu is a Male Panda Bear who is 5 years old\n",
            "Pan Pan is a Female Panda Bear who is 3 years old\n",
            "Ming Ming is a Female Panda Bear who is 8 years old\n",
            "===========================\n",
            "Pan Pan sleeps 10 hours daily and should have Broccoli Chicken\n",
            "Kunfu sleeps 4 hours daily and should have Mixed Veggies\n",
            "Ming Ming's duration is unknown thus should have only bamboo leaves\n"
          ]
        }
      ]
    },
    {
      "cell_type": "code",
      "metadata": {
        "id": "-XrAblFeNLM2",
        "colab": {
          "base_uri": "https://localhost:8080/"
        },
        "outputId": "62039ee0-378c-4f66-da11-8f07acb1f376"
      },
      "source": [
        "#Task4\n",
        "class Cat:\n",
        "  def __init__(self, c = None, b = None):\n",
        "    self.color = c\n",
        "    self.behavior = b\n",
        "  def printCat(self):\n",
        "    if self.color != None and self.behavior != None:\n",
        "      print(self.color,'cat is',self.behavior)\n",
        "    elif self.color != None and self.behavior == None:\n",
        "      print(self.color,'cat is sitting')\n",
        "    else:\n",
        "      print('White cat is sitting')\n",
        "  def changeColor(self, c):\n",
        "    self.color = c\n",
        "    \n",
        "\n",
        "c1 = Cat()\n",
        "c2 = Cat(\"Black\")\n",
        "c3 = Cat(\"Brown\", \"jumping\")\n",
        "c4 = Cat(\"Red\", \"purring\")\n",
        "c1.printCat()\n",
        "c2.printCat()\n",
        "c3.printCat()\n",
        "c4.printCat()\n",
        "c1.changeColor(\"Blue\")\n",
        "c3.changeColor(\"Purple\")\n",
        "c1.printCat()\n",
        "c3.printCat()"
      ],
      "execution_count": 79,
      "outputs": [
        {
          "output_type": "stream",
          "name": "stdout",
          "text": [
            "White cat is sitting\n",
            "Black cat is sitting\n",
            "Brown cat is jumping\n",
            "Red cat is purring\n",
            "Blue cat is sitting\n",
            "Purple cat is jumping\n"
          ]
        }
      ]
    },
    {
      "cell_type": "code",
      "metadata": {
        "id": "skJSHJKX3p3f",
        "colab": {
          "base_uri": "https://localhost:8080/"
        },
        "outputId": "21cf4998-8e79-4eb0-bead-fae443e0dd62"
      },
      "source": [
        "#Task5\n",
        "class Student():\n",
        "  def __init__(self, n = None):\n",
        "    if n != None:\n",
        "      self.name = n \n",
        "    else:\n",
        "      self.name = None\n",
        "      \n",
        "  def quizcalc(self, *n):\n",
        "    self.number =n\n",
        "  def printdetail(self):\n",
        "      if self.name != None:\n",
        "        print('Hello',self.name)\n",
        "      else:\n",
        "        print('Hello default student')\n",
        "      total = 0\n",
        "      for x in self.number:\n",
        "        total = total + int(x)\n",
        "        average = total / 3\n",
        "      print('Your average quiz score is',average)\n",
        "\n",
        "s1 = Student()\n",
        "s1.quizcalc(10)\n",
        "print('--------------------------------')\n",
        "s1.printdetail()\n",
        "s2 = Student('Harry')\n",
        "s2.quizcalc(10,8)\n",
        "print('--------------------------------')\n",
        "s2.printdetail()\n",
        "s3 = Student('Hermione')\n",
        "s3.quizcalc(10,9,10)\n",
        "print('--------------------------------')\n",
        "s3.printdetail()"
      ],
      "execution_count": 78,
      "outputs": [
        {
          "output_type": "stream",
          "name": "stdout",
          "text": [
            "--------------------------------\n",
            "Hello default student\n",
            "Your average quiz score is 3.3333333333333335\n",
            "--------------------------------\n",
            "Hello Harry\n",
            "Your average quiz score is 6.0\n",
            "--------------------------------\n",
            "Hello Hermione\n",
            "Your average quiz score is 9.666666666666666\n"
          ]
        }
      ]
    },
    {
      "cell_type": "code",
      "metadata": {
        "colab": {
          "base_uri": "https://localhost:8080/"
        },
        "id": "F8UUS6qkI16q",
        "outputId": "f1e26665-5c07-4898-ce34-4d47ebd69f3b"
      },
      "source": [
        "#Task6\n",
        "class Vehicle():\n",
        "  def __init__(self):\n",
        "    self.x = 0\n",
        "    self.y = 0\n",
        "  def moveUp(self):\n",
        "    self.x = 0\n",
        "    self.y = 1\n",
        "  def moveLeft(self):\n",
        "    self.x = -1\n",
        "    self.y = 1\n",
        "  def moveDown(self):\n",
        "    self.x = -1\n",
        "    self.y = 0\n",
        "  def moveRight(self):\n",
        "    self.x = 0\n",
        "    self.y = 0\n",
        "  def print_position(self):\n",
        "    print((self.x,self.y))\n",
        "\n",
        "car = Vehicle()\n",
        "car.print_position()\n",
        "car.moveUp()\n",
        "car.print_position()\n",
        "car.moveLeft()\n",
        "car.print_position()\n",
        "car.moveDown()\n",
        "car.print_position()\n",
        "car.moveRight()\n"
      ],
      "execution_count": null,
      "outputs": [
        {
          "output_type": "stream",
          "name": "stdout",
          "text": [
            "(0, 0)\n",
            "(0, 1)\n",
            "(-1, 1)\n",
            "(-1, 0)\n"
          ]
        }
      ]
    },
    {
      "cell_type": "code",
      "metadata": {
        "colab": {
          "base_uri": "https://localhost:8080/"
        },
        "id": "R6t8f5tA93_P",
        "outputId": "3385841f-7c12-45c2-dae3-6ae0c0d6486d"
      },
      "source": [
        "#Task7\n",
        "class Programmer():\n",
        "  def __init__(self, n, l, e):\n",
        "    self.name = n\n",
        "    self.language = l\n",
        "    self.experience = e\n",
        "    print('Horray! A new programmer is born')\n",
        "    \n",
        "\n",
        "  def addExp(self, e):\n",
        "    print('Updating experience of',self.name)\n",
        "    self.experience = self.experience + e\n",
        "  def printDetails(self):\n",
        "    print('Name:',self.name)\n",
        "    print('Language:',self.language)\n",
        "    print('Experience:',self.experience,'years.') \n",
        "\n",
        "\n",
        "\n",
        "p1 = Programmer(\"Ethen Hunt\", \"Java\", 10)\n",
        "p1.printDetails()\n",
        "print('--------------------------')\n",
        "p2 = Programmer(\"James Bond\", \"C++\", 7)\n",
        "p2.printDetails()\n",
        "print('--------------------------')\n",
        "p3 = Programmer(\"Jon Snow\", \"Python\", 4)\n",
        "p3.printDetails()\n",
        "p3.addExp(5)\n",
        "p3.printDetails()\n"
      ],
      "execution_count": 77,
      "outputs": [
        {
          "output_type": "stream",
          "name": "stdout",
          "text": [
            "Horray! A new programmer is born\n",
            "Name: Ethen Hunt\n",
            "Language: Java\n",
            "Experience: 10 years.\n",
            "--------------------------\n",
            "Horray! A new programmer is born\n",
            "Name: James Bond\n",
            "Language: C++\n",
            "Experience: 7 years.\n",
            "--------------------------\n",
            "Horray! A new programmer is born\n",
            "Name: Jon Snow\n",
            "Language: Python\n",
            "Experience: 4 years.\n",
            "Updating experience of Jon Snow\n",
            "Name: Jon Snow\n",
            "Language: Python\n",
            "Experience: 9 years.\n"
          ]
        }
      ]
    },
    {
      "cell_type": "code",
      "metadata": {
        "colab": {
          "base_uri": "https://localhost:8080/"
        },
        "id": "AqBhZch3JMiD",
        "outputId": "597ba5bf-25d7-4047-fadf-920d7701e3f4"
      },
      "source": [
        "#Task8\n",
        "class Student():\n",
        "  def __init__(self, n, id, dep = 'CSE'):\n",
        "    self.name = n\n",
        "    self.id = id\n",
        "    self.department = dep\n",
        "  def dailyEffort(self, e):\n",
        "    self.effort = e\n",
        "  def printDetails(self):\n",
        "    print('Name:',self.name)\n",
        "    print('ID:',self.id)\n",
        "    print('Department:',self.department)\n",
        "    print('Daily Effort:',self.effort,'hour(s)')\n",
        "    if self.effort <= 2:\n",
        "      print('Suggestion: Should give more effort!')\n",
        "    elif self.effort <= 4:\n",
        "      print('Suggestion: Keep up the good work!')\n",
        "    else:\n",
        "      print('Suggestion: Excellent! Now motivate others.')\n",
        "\n",
        "\n",
        "\n",
        "harry = Student('Harry Potter', 123)\n",
        "harry.dailyEffort(3)\n",
        "harry.printDetails()\n",
        "print('========================')\n",
        "john = Student(\"John Wick\", 456, \"BBA\")\n",
        "john.dailyEffort(2)\n",
        "john.printDetails()\n",
        "print('========================')\n",
        "naruto = Student(\"Naruto Uzumaki\", 777, \"Ninja\")\n",
        "naruto.dailyEffort(6)\n",
        "naruto.printDetails()"
      ],
      "execution_count": 75,
      "outputs": [
        {
          "output_type": "stream",
          "name": "stdout",
          "text": [
            "Name: Harry Potter\n",
            "ID: 123\n",
            "Department: CSE\n",
            "Daily Effort: 3 hour(s)\n",
            "Suggestion: Keep up the good work!\n",
            "========================\n",
            "Name: John Wick\n",
            "ID: 456\n",
            "Department: BBA\n",
            "Daily Effort: 2 hour(s)\n",
            "Suggestion: Should give more effort!\n",
            "========================\n",
            "Name: Naruto Uzumaki\n",
            "ID: 777\n",
            "Department: Ninja\n",
            "Daily Effort: 6 hour(s)\n",
            "Suggestion: Excellent! Now motivate others.\n"
          ]
        }
      ]
    },
    {
      "cell_type": "code",
      "metadata": {
        "colab": {
          "base_uri": "https://localhost:8080/"
        },
        "id": "Hd_y5KQ4QOnC",
        "outputId": "85310cd5-7ad9-4622-cbf9-ca0049102834"
      },
      "source": [
        "#Task9\n",
        "class Patient():\n",
        "  def __init__(self, n, a):\n",
        "    self.name = n\n",
        "    self.age = a\n",
        "  def add_Symptom(self, *sym):\n",
        "    self.symptom = sym\n",
        "  def printPatientDetail(self):\n",
        "    print('Name:', self.name)\n",
        "    print('Age:',self.age)\n",
        "    print('Symptoms:',self.symptom)\n",
        "\n",
        "\n",
        "p1 = Patient(\"Thomas\", 23)\n",
        "p1.add_Symptom(\"Headache\")\n",
        "p2 = Patient(\"Carol\", 20)\n",
        "p2.add_Symptom(\"Vomiting\", \"Coughing\")\n",
        "p3 = Patient(\"Mike\", 25)\n",
        "p3.add_Symptom(\"Fever\", \"Headache\", \"Coughing\")\n",
        "print(\"=========================\")\n",
        "p1.printPatientDetail()\n",
        "print(\"=========================\")\n",
        "p2.printPatientDetail()\n",
        "print(\"=========================\")\n",
        "p3.printPatientDetail()\n",
        "print(\"=========================\")"
      ],
      "execution_count": 82,
      "outputs": [
        {
          "output_type": "stream",
          "name": "stdout",
          "text": [
            "=========================\n",
            "Name: Thomas\n",
            "Age: 23\n",
            "Symptoms: ('Headache',)\n",
            "=========================\n",
            "Name: Carol\n",
            "Age: 20\n",
            "Symptoms: ('Vomiting', 'Coughing')\n",
            "=========================\n",
            "Name: Mike\n",
            "Age: 25\n",
            "Symptoms: ('Fever', 'Headache', 'Coughing')\n",
            "=========================\n"
          ]
        }
      ]
    },
    {
      "cell_type": "code",
      "metadata": {
        "colab": {
          "base_uri": "https://localhost:8080/"
        },
        "id": "XPZ95UO8Zc41",
        "outputId": "f4a9a31c-f045-4a12-f437-d108541ac715"
      },
      "source": [
        "#Task10\n",
        "class Avengers():\n",
        "  def __init__(self, n, p):\n",
        "    self.name = n\n",
        "    self.partner = p\n",
        "  def super_powers(self, *p):\n",
        "    self.power = p\n",
        "  def printAvengersDetail(self):\n",
        "    print('Name:', self.name)\n",
        "    print('Partner:', self.partner)\n",
        "    print('Super Powers:', self.power)\n",
        "\n",
        "\n",
        "\n",
        "a1 = Avengers('Captain America', 'Bucky Barnes')\n",
        "a1.super_powers('Stamina', 'Slowed ageing')\n",
        "a2 = Avengers('Doctor Strange', 'Ancient One')\n",
        "a2.super_powers('Mastery of magic')\n",
        "a3 = Avengers('Iron Man', 'War Machine')\n",
        "a3.super_powers('Genius level intellect', 'Scientist ')\n",
        "print(\"=========================\")\n",
        "a1.printAvengersDetail()\n",
        "print(\"=========================\")\n",
        "a2.printAvengersDetail()\n",
        "print(\"=========================\")\n",
        "a3.printAvengersDetail()\n",
        "print(\"=========================\")"
      ],
      "execution_count": 65,
      "outputs": [
        {
          "output_type": "stream",
          "name": "stdout",
          "text": [
            "=========================\n",
            "Name: Captain America\n",
            "Partner: Bucky Barnes\n",
            "Super Powers: ('Stamina', 'Slowed ageing')\n",
            "=========================\n",
            "Name: Doctor Strange\n",
            "Partner: Ancient One\n",
            "Super Powers: ('Mastery of magic',)\n",
            "=========================\n",
            "Name: Iron Man\n",
            "Partner: War Machine\n",
            "Super Powers: ('Genius level intellect', 'Scientist ')\n",
            "=========================\n"
          ]
        }
      ]
    },
    {
      "cell_type": "code",
      "metadata": {
        "colab": {
          "base_uri": "https://localhost:8080/"
        },
        "id": "p2D1G0aOa5-V",
        "outputId": "f7ea6d2d-e2d6-42bc-fc3c-51b0219f5c1a"
      },
      "source": [
        "#Task11\n",
        "class Shinobi():\n",
        "  def __init__(self, n, r, s=0, m=0):\n",
        "    self.name = n\n",
        "    self.rank = r\n",
        "    self.salary = s\n",
        "    self.mission = m\n",
        "  def changeRank(self, rnk):\n",
        "    self.rank = rnk\n",
        "  def calSalary(self, msn):\n",
        "    self.mission = msn\n",
        "    if self.rank == 'Genin':\n",
        "      self.salary = self.mission * 50\n",
        "    elif self.rank == 'Chunin':\n",
        "      self.salary = self.mission * 100\n",
        "    else:\n",
        "      self.salary = self.mission * 500\n",
        "  def printInfo(self):\n",
        "    print('Name:',self.name)\n",
        "    print('Rank:',self.rank)\n",
        "    print('Number of missions:',self.mission)\n",
        "    print('salary:',self.salary)\n",
        "\n",
        "naruto = Shinobi(\"Naruto\", \"Genin\")\n",
        "naruto.calSalary(5)\n",
        "naruto.printInfo()\n",
        "print('====================')\n",
        "shikamaru = Shinobi('Shikamaru', \"Genin\")\n",
        "shikamaru.printInfo()\n",
        "shikamaru.changeRank(\"Chunin\")\n",
        "shikamaru.calSalary(10)\n",
        "shikamaru.printInfo()\n",
        "print('====================')\n",
        "neiji = Shinobi(\"Neiji\", \"Jonin\")\n",
        "neiji.calSalary(5)\n",
        "neiji.printInfo()\n",
        "\n",
        "      "
      ],
      "execution_count": 60,
      "outputs": [
        {
          "output_type": "stream",
          "name": "stdout",
          "text": [
            "Name: Naruto\n",
            "Rank: Genin\n",
            "Number of missions: 5\n",
            "salary: 250\n",
            "====================\n",
            "Name: Shikamaru\n",
            "Rank: Genin\n",
            "Number of missions: 0\n",
            "salary: 0\n",
            "Name: Shikamaru\n",
            "Rank: Chunin\n",
            "Number of missions: 10\n",
            "salary: 1000\n",
            "====================\n",
            "Name: Neiji\n",
            "Rank: Jonin\n",
            "Number of missions: 5\n",
            "salary: 2500\n"
          ]
        }
      ]
    },
    {
      "cell_type": "code",
      "metadata": {
        "colab": {
          "base_uri": "https://localhost:8080/"
        },
        "id": "-QlXnlDmmYg5",
        "outputId": "7123fcd1-b12b-4bc9-cf04-313e1bd05473"
      },
      "source": [
        "#Task12\n",
        "class ParcelKoro():\n",
        "  def __init__(self, n = 'No name set', w = 0 ):\n",
        "    self.name = n \n",
        "    self.product_weight = w\n",
        "  def calculateFee(self, l = None):\n",
        "    self.location = l\n",
        "    if self.product_weight == 0:\n",
        "      self.fee = 0\n",
        "    elif self.product_weight != 0 and self.location == None:\n",
        "      self.fee = self.product_weight * 20 + 50\n",
        "    elif self.product_weight != 0 and self.location != None:\n",
        "      self.fee = self.product_weight * 20 + 100\n",
        "  def printDetails(self):\n",
        "    print('Customer Name:',self.name)\n",
        "    print('product Weight:',self.product_weight)\n",
        "    print('Total fee:',self.fee)\n",
        "    \n",
        "print(\"**********************\")\n",
        "p1 = ParcelKoro()\n",
        "p1.calculateFee()\n",
        "p1.printDetails()\n",
        "print(\"**********************\")\n",
        "p2 = ParcelKoro('Bob The Builder')\n",
        "p2.calculateFee()\n",
        "p2.printDetails()\n",
        "print(\"----------------------------\")\n",
        "p2.product_weight = 15\n",
        "p2.calculateFee()\n",
        "p2.printDetails()\n",
        "print(\"**********************\")\n",
        "p3 = ParcelKoro('Dora The Explorer', 10)\n",
        "p3.calculateFee('Dhanmondi')\n",
        "p3.printDetails()"
      ],
      "execution_count": 59,
      "outputs": [
        {
          "output_type": "stream",
          "name": "stdout",
          "text": [
            "**********************\n",
            "Customer Name: No name set\n",
            "product Weight: 0\n",
            "Total fee: 0\n",
            "**********************\n",
            "Customer Name: Bob The Builder\n",
            "product Weight: 0\n",
            "Total fee: 0\n",
            "----------------------------\n",
            "Customer Name: Bob The Builder\n",
            "product Weight: 15\n",
            "Total fee: 350\n",
            "**********************\n",
            "Customer Name: Dora The Explorer\n",
            "product Weight: 10\n",
            "Total fee: 300\n"
          ]
        }
      ]
    },
    {
      "cell_type": "code",
      "metadata": {
        "colab": {
          "base_uri": "https://localhost:8080/"
        },
        "id": "RFW6v0vf1VDf",
        "outputId": "212571c9-00b6-4d91-b03d-f4db7286c30e"
      },
      "source": [
        "#Task13\n",
        "class Batsman():\n",
        "  def __init__(self, *x):\n",
        "    if len(x) == 2:\n",
        "      self.name = 'New Batsman'\n",
        "      self.run_scored = x[0]\n",
        "      self.ball_faced = x[1]\n",
        "    else:\n",
        "      self.name = x[0]\n",
        "      self.run_scored = x[1]\n",
        "      self.ball_faced = x[2]\n",
        "  def setName(self, n):\n",
        "    self.name = n\n",
        "  def battingStrikeRate(self): \n",
        "    batting_strike_R = (self.run_scored / self.ball_faced) * 100\n",
        "    return batting_strike_R\n",
        "  def printCareerStatistics(self):\n",
        "    print('Name:',self.name)\n",
        "    print('Runs Scored:',self.run_scored,\",\",'Ball Faced:',self.ball_faced)\n",
        "    \n",
        "  \n",
        "b1 = Batsman(6101, 7380)\n",
        "b1.printCareerStatistics()\n",
        "print(\"============================\")\n",
        "b2 = Batsman(\"Liton Das\", 678, 773)\n",
        "b2.printCareerStatistics()\n",
        "print(\"----------------------------\")\n",
        "print(b2.battingStrikeRate())\n",
        "print(\"============================\")\n",
        "b1.setName(\"Shakib Al Hasan\")\n",
        "b1.printCareerStatistics()\n",
        "print(\"----------------------------\")\n",
        "print(b1.battingStrikeRate())"
      ],
      "execution_count": 33,
      "outputs": [
        {
          "output_type": "stream",
          "name": "stdout",
          "text": [
            "Name: New Batsman\n",
            "Runs Scored: 6101 , Ball Faced: 7380\n",
            "============================\n",
            "Name: Liton Das\n",
            "Runs Scored: 678 , Ball Faced: 773\n",
            "----------------------------\n",
            "87.71021992238033\n",
            "============================\n",
            "Name: Shakib Al Hasan\n",
            "Runs Scored: 6101 , Ball Faced: 7380\n",
            "----------------------------\n",
            "82.66937669376694\n"
          ]
        }
      ]
    },
    {
      "cell_type": "code",
      "metadata": {
        "colab": {
          "base_uri": "https://localhost:8080/"
        },
        "id": "R8QDQqJ4Wyyg",
        "outputId": "778b65c9-8946-4455-8f96-f91799374192"
      },
      "source": [
        "#Task14\n",
        "class EPL_Team():\n",
        "  def __init__(self, n = None, s = None, t = 0):\n",
        "    if n != None and s != None:\n",
        "      self.name = n\n",
        "      self.song = s\n",
        "      self.title = 0\n",
        "    else:\n",
        "      self.name = n\n",
        "      self.song = 'No Slogan'\n",
        "      self.title = 0\n",
        "  def increaseTitle(self):\n",
        "    self.title = self.title + 1\n",
        "  def changeSong(self, s):\n",
        "    self.song = s \n",
        "  def showClubInfo(self):\n",
        "    print('Name:',self.name)\n",
        "    print('Song:',self.song)\n",
        "    return f\"Total No of title: {self.title}\"\n",
        "\n",
        "manu = EPL_Team('Manchester United', 'Glory Glory Man United')\n",
        "chelsea = EPL_Team('Chelsea')\n",
        "print('===================')\n",
        "print(manu.showClubInfo())\n",
        "print('##################')\n",
        "manu.increaseTitle()\n",
        "print(manu.showClubInfo())\n",
        "print('===================')\n",
        "print(chelsea.showClubInfo())\n",
        "chelsea.changeSong('Keep the blue flag flying high')\n",
        "print(chelsea.showClubInfo())"
      ],
      "execution_count": 32,
      "outputs": [
        {
          "output_type": "stream",
          "name": "stdout",
          "text": [
            "===================\n",
            "Name: Manchester United\n",
            "Song: Glory Glory Man United\n",
            "Total No of title: 0\n",
            "##################\n",
            "Name: Manchester United\n",
            "Song: Glory Glory Man United\n",
            "Total No of title: 1\n",
            "===================\n",
            "Name: Chelsea\n",
            "Song: No Slogan\n",
            "Total No of title: 0\n",
            "Name: Chelsea\n",
            "Song: Keep the blue flag flying high\n",
            "Total No of title: 0\n"
          ]
        }
      ]
    },
    {
      "cell_type": "code",
      "metadata": {
        "colab": {
          "base_uri": "https://localhost:8080/"
        },
        "id": "wwGsGE2rul0e",
        "outputId": "38872980-a0f6-411a-a355-a8beee1eef4e"
      },
      "source": [
        "#Task15\n",
        "class Account():\n",
        "  def __init__(self, *x):\n",
        "    if len(x) == 0:\n",
        "      self.name = 'Default Account'\n",
        "      self.balance = 0\n",
        "    elif len(x) == 1:\n",
        "      self.name = x[0]\n",
        "      self.balance = 0\n",
        "    else:\n",
        "      self.name = x[0]\n",
        "      self.balance = x[1]\n",
        "  def details(self):\n",
        "    print(self.name)\n",
        "    return float(self.balance)\n",
        "  def withdraw(self, wit): \n",
        "    remaining_amount = self.balance - wit\n",
        "    if remaining_amount <= 3070:\n",
        "      print('Sorry, Withdraw unsuccessful! The account balance after deducting withdraw amount is equal to or less than minimum.')\n",
        "    else:\n",
        "      print('Withdraw successful! New balance is:', remaining_amount)\n",
        "\n",
        "a1 = Account()\n",
        "print(a1.details())\n",
        "print(\"------------------------\")\n",
        "a1.name = \"Oliver\"\n",
        "a1.balance = 10000.0\n",
        "print(a1.details())\n",
        "print(\"------------------------\")\n",
        "a2 = Account(\"Liam\")\n",
        "print(a2.details())\n",
        "print(\"------------------------\")\n",
        "a3 = Account(\"Noah\",400)\n",
        "print(a3.details())\n",
        "print(\"------------------------\")\n",
        "a1.withdraw(6930);\n",
        "print(\"------------------------\")\n",
        "a2.withdraw(600);\n",
        "print(\"------------------------\")\n",
        "a1.withdraw(6929)"
      ],
      "execution_count": 31,
      "outputs": [
        {
          "output_type": "stream",
          "name": "stdout",
          "text": [
            "Default Account\n",
            "0.0\n",
            "------------------------\n",
            "Oliver\n",
            "10000.0\n",
            "------------------------\n",
            "Liam\n",
            "0.0\n",
            "------------------------\n",
            "Noah\n",
            "400.0\n",
            "------------------------\n",
            "Sorry, Withdraw unsuccessful! The account balance after deducting withdraw amount is equal to or less than minimum.\n",
            "------------------------\n",
            "Sorry, Withdraw unsuccessful! The account balance after deducting withdraw amount is equal to or less than minimum.\n",
            "------------------------\n",
            "Withdraw successful! New balance is: 3071.0\n"
          ]
        }
      ]
    },
    {
      "cell_type": "code",
      "metadata": {
        "id": "2TRc_jQwMxJ4",
        "colab": {
          "base_uri": "https://localhost:8080/"
        },
        "outputId": "ae6f5ce9-eaa8-4266-bf49-e1b689343126"
      },
      "source": [
        "#Task16\n",
        "class Author():\n",
        "  def __init__(self, n = 'Default', *b):\n",
        "    self.name = n\n",
        "    self.books = b\n",
        "  def addBooks(self, *b):\n",
        "    self.books = self.books + b\n",
        "  def changeName(self, u):\n",
        "    self.update = u\n",
        "    self.name = self.update\n",
        "  def printDetails(self):\n",
        "    print('Author Name:',self.name)\n",
        "    print('--------')\n",
        "    print('List of Books:')\n",
        "    for x in self.books:\n",
        "      print(x)\n",
        "\n",
        "\n",
        "auth1 = Author('Humayun Ahmed')\n",
        "auth1.addBooks('Deyal', 'Megher Opor Bari')\n",
        "auth1.printDetails()\n",
        "print(\"===================\")\n",
        "auth2 = Author()\n",
        "print(auth2.name)\n",
        "auth2.changeName('Mario Puzo')\n",
        "auth2.addBooks('The Godfather', 'Omerta', 'The Sicilian')\n",
        "print(\"===================\")\n",
        "auth2.printDetails()\n",
        "print(\"===================\")\n",
        "auth3 = Author('Paolo Coelho', 'The Alchemist', 'The Fifth Mountain')\n",
        "auth3.printDetails()"
      ],
      "execution_count": 30,
      "outputs": [
        {
          "output_type": "stream",
          "name": "stdout",
          "text": [
            "Author Name: Humayun Ahmed\n",
            "--------\n",
            "List of Books:\n",
            "Deyal\n",
            "Megher Opor Bari\n",
            "===================\n",
            "Default\n",
            "===================\n",
            "Author Name: Mario Puzo\n",
            "--------\n",
            "List of Books:\n",
            "The Godfather\n",
            "Omerta\n",
            "The Sicilian\n",
            "===================\n",
            "Author Name: Paolo Coelho\n",
            "--------\n",
            "List of Books:\n",
            "The Alchemist\n",
            "The Fifth Mountain\n"
          ]
        }
      ]
    }
  ]
}